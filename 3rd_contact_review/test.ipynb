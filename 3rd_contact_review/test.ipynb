{
 "cells": [
  {
   "cell_type": "code",
   "execution_count": 1,
   "metadata": {},
   "outputs": [],
   "source": [
    "import pandas as pd\n",
    "import psycopg2\n",
    "from sqlalchemy import create_engine\n",
    "from decouple import config\n"
   ]
  },
  {
   "cell_type": "code",
   "execution_count": 2,
   "metadata": {},
   "outputs": [
    {
     "ename": "UndefinedValueError",
     "evalue": "DB_HOST not found. Declare it as envvar or define a default value.",
     "output_type": "error",
     "traceback": [
      "\u001b[1;31m---------------------------------------------------------------------------\u001b[0m",
      "\u001b[1;31mUndefinedValueError\u001b[0m                       Traceback (most recent call last)",
      "\u001b[1;32mc:\\Users\\Gbemi\\OneDrive\\Documents\\bincomTasks\\3rd_contact_review\\test.ipynb Cell 2\u001b[0m line \u001b[0;36m2\n\u001b[0;32m      <a href='vscode-notebook-cell:/c%3A/Users/Gbemi/OneDrive/Documents/bincomTasks/3rd_contact_review/test.ipynb#W1sZmlsZQ%3D%3D?line=0'>1</a>\u001b[0m db_connection \u001b[39m=\u001b[39m psycopg2\u001b[39m.\u001b[39mconnect(\n\u001b[1;32m----> <a href='vscode-notebook-cell:/c%3A/Users/Gbemi/OneDrive/Documents/bincomTasks/3rd_contact_review/test.ipynb#W1sZmlsZQ%3D%3D?line=1'>2</a>\u001b[0m     host\u001b[39m=\u001b[39mconfig(\u001b[39m\"\u001b[39;49m\u001b[39mDB_HOST\u001b[39;49m\u001b[39m\"\u001b[39;49m),\n\u001b[0;32m      <a href='vscode-notebook-cell:/c%3A/Users/Gbemi/OneDrive/Documents/bincomTasks/3rd_contact_review/test.ipynb#W1sZmlsZQ%3D%3D?line=2'>3</a>\u001b[0m     database\u001b[39m=\u001b[39mconfig(\u001b[39m\"\u001b[39m\u001b[39mDB_NAME\u001b[39m\u001b[39m\"\u001b[39m),\n\u001b[0;32m      <a href='vscode-notebook-cell:/c%3A/Users/Gbemi/OneDrive/Documents/bincomTasks/3rd_contact_review/test.ipynb#W1sZmlsZQ%3D%3D?line=3'>4</a>\u001b[0m     user\u001b[39m=\u001b[39mconfig(\u001b[39m\"\u001b[39m\u001b[39mDB_USER\u001b[39m\u001b[39m\"\u001b[39m),\n\u001b[0;32m      <a href='vscode-notebook-cell:/c%3A/Users/Gbemi/OneDrive/Documents/bincomTasks/3rd_contact_review/test.ipynb#W1sZmlsZQ%3D%3D?line=4'>5</a>\u001b[0m     password\u001b[39m=\u001b[39mconfig(\u001b[39m\"\u001b[39m\u001b[39mDB_PASSWORD\u001b[39m\u001b[39m\"\u001b[39m)\n\u001b[0;32m      <a href='vscode-notebook-cell:/c%3A/Users/Gbemi/OneDrive/Documents/bincomTasks/3rd_contact_review/test.ipynb#W1sZmlsZQ%3D%3D?line=5'>6</a>\u001b[0m )\n",
      "File \u001b[1;32mc:\\Users\\Gbemi\\OneDrive\\Documents\\bincomTasks\\env\\Lib\\site-packages\\decouple.py:248\u001b[0m, in \u001b[0;36mAutoConfig.__call__\u001b[1;34m(self, *args, **kwargs)\u001b[0m\n\u001b[0;32m    245\u001b[0m \u001b[39mif\u001b[39;00m \u001b[39mnot\u001b[39;00m \u001b[39mself\u001b[39m\u001b[39m.\u001b[39mconfig:\n\u001b[0;32m    246\u001b[0m     \u001b[39mself\u001b[39m\u001b[39m.\u001b[39m_load(\u001b[39mself\u001b[39m\u001b[39m.\u001b[39msearch_path \u001b[39mor\u001b[39;00m \u001b[39mself\u001b[39m\u001b[39m.\u001b[39m_caller_path())\n\u001b[1;32m--> 248\u001b[0m \u001b[39mreturn\u001b[39;00m \u001b[39mself\u001b[39;49m\u001b[39m.\u001b[39;49mconfig(\u001b[39m*\u001b[39;49margs, \u001b[39m*\u001b[39;49m\u001b[39m*\u001b[39;49mkwargs)\n",
      "File \u001b[1;32mc:\\Users\\Gbemi\\OneDrive\\Documents\\bincomTasks\\env\\Lib\\site-packages\\decouple.py:107\u001b[0m, in \u001b[0;36mConfig.__call__\u001b[1;34m(self, *args, **kwargs)\u001b[0m\n\u001b[0;32m    103\u001b[0m \u001b[39mdef\u001b[39;00m \u001b[39m__call__\u001b[39m(\u001b[39mself\u001b[39m, \u001b[39m*\u001b[39margs, \u001b[39m*\u001b[39m\u001b[39m*\u001b[39mkwargs):\n\u001b[0;32m    104\u001b[0m \u001b[39m    \u001b[39m\u001b[39m\"\"\"\u001b[39;00m\n\u001b[0;32m    105\u001b[0m \u001b[39m    Convenient shortcut to get.\u001b[39;00m\n\u001b[0;32m    106\u001b[0m \u001b[39m    \"\"\"\u001b[39;00m\n\u001b[1;32m--> 107\u001b[0m     \u001b[39mreturn\u001b[39;00m \u001b[39mself\u001b[39;49m\u001b[39m.\u001b[39;49mget(\u001b[39m*\u001b[39;49margs, \u001b[39m*\u001b[39;49m\u001b[39m*\u001b[39;49mkwargs)\n",
      "File \u001b[1;32mc:\\Users\\Gbemi\\OneDrive\\Documents\\bincomTasks\\env\\Lib\\site-packages\\decouple.py:92\u001b[0m, in \u001b[0;36mConfig.get\u001b[1;34m(self, option, default, cast)\u001b[0m\n\u001b[0;32m     90\u001b[0m \u001b[39melse\u001b[39;00m:\n\u001b[0;32m     91\u001b[0m     \u001b[39mif\u001b[39;00m \u001b[39misinstance\u001b[39m(default, Undefined):\n\u001b[1;32m---> 92\u001b[0m         \u001b[39mraise\u001b[39;00m UndefinedValueError(\u001b[39m'\u001b[39m\u001b[39m{}\u001b[39;00m\u001b[39m not found. Declare it as envvar or define a default value.\u001b[39m\u001b[39m'\u001b[39m\u001b[39m.\u001b[39mformat(option))\n\u001b[0;32m     94\u001b[0m     value \u001b[39m=\u001b[39m default\n\u001b[0;32m     96\u001b[0m \u001b[39mif\u001b[39;00m \u001b[39misinstance\u001b[39m(cast, Undefined):\n",
      "\u001b[1;31mUndefinedValueError\u001b[0m: DB_HOST not found. Declare it as envvar or define a default value."
     ]
    }
   ],
   "source": [
    "db_connection = psycopg2.connect(\n",
    "    host=config(\"DB_HOST\"),\n",
    "    database=config(\"DB_NAME\"),\n",
    "    user=config(\"DB_USER\"),\n",
    "    password=config(\"DB_PASSWORD\")\n",
    ")\n"
   ]
  }
 ],
 "metadata": {
  "kernelspec": {
   "display_name": "env",
   "language": "python",
   "name": "python3"
  },
  "language_info": {
   "codemirror_mode": {
    "name": "ipython",
    "version": 3
   },
   "file_extension": ".py",
   "mimetype": "text/x-python",
   "name": "python",
   "nbconvert_exporter": "python",
   "pygments_lexer": "ipython3",
   "version": "3.11.5"
  },
  "orig_nbformat": 4
 },
 "nbformat": 4,
 "nbformat_minor": 2
}
